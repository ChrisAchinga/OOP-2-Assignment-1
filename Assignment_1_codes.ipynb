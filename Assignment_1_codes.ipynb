{
  "nbformat": 4,
  "nbformat_minor": 0,
  "metadata": {
    "colab": {
      "name": "Assignment 1 - codes.ipynb",
      "provenance": [],
      "include_colab_link": true
    },
    "kernelspec": {
      "name": "python3",
      "display_name": "Python 3"
    }
  },
  "cells": [
    {
      "cell_type": "markdown",
      "metadata": {
        "id": "view-in-github",
        "colab_type": "text"
      },
      "source": [
        "<a href=\"https://colab.research.google.com/github/ChrisAchinga/OOP-2-Assignment-1/blob/master/Assignment_1_codes.ipynb\" target=\"_parent\"><img src=\"https://colab.research.google.com/assets/colab-badge.svg\" alt=\"Open In Colab\"/></a>"
      ]
    },
    {
      "cell_type": "code",
      "metadata": {
        "id": "kgh2sTwdFVV9",
        "colab_type": "code",
        "outputId": "021b0a16-d15f-4fcc-b929-82c857f43637",
        "colab": {
          "base_uri": "https://localhost:8080/",
          "height": 51
        }
      },
      "source": [
        "# def multiplyList(myList) : \n",
        "      \n",
        "#     # Multiply elements one by one \n",
        "#     result = 1\n",
        "#     for x in myList: \n",
        "#          result = result * x  \n",
        "#     return result  \n",
        "      \n",
        "# # Driver code \n",
        "# list1 = [1, 2, 3]  \n",
        "# list2 = [3, 2, 4] \n",
        "# print(multiplyList(list2)) \n",
        "\n",
        "# ussing numpy library\n",
        "\n",
        "# Python3 program to multiply all values in the \n",
        "# list using numpy.prod() \n",
        "  \n",
        "import numpy  \n",
        "list1 = [1, 2, 3]  \n",
        "list2 = [3, 2, 4] \n",
        "  \n",
        "# using numpy.prod() to get the multiplications  \n",
        "result1 = numpy.prod(list1) \n",
        "result2 = numpy.prod(list2) \n",
        "print(result1) \n",
        "print(result2) \n"
      ],
      "execution_count": 0,
      "outputs": [
        {
          "output_type": "stream",
          "text": [
            "6\n",
            "24\n"
          ],
          "name": "stdout"
        }
      ]
    },
    {
      "cell_type": "code",
      "metadata": {
        "id": "o0ZMbmf0Fc1K",
        "colab_type": "code",
        "colab": {}
      },
      "source": [
        "stringer = \"i am a good peron\"\n",
        "print(len(stringer))\n"
      ],
      "execution_count": 0,
      "outputs": []
    },
    {
      "cell_type": "code",
      "metadata": {
        "id": "9_pIHNxUZjgd",
        "colab_type": "code",
        "outputId": "72698ea0-5b08-4216-fdc2-75a790c7a07e",
        "colab": {
          "base_uri": "https://localhost:8080/",
          "height": 34
        }
      },
      "source": [
        "studenDict = {\n",
        "    \"FirstName\" : \"Chris\",\n",
        "    \"LastName\" : \"Achinga\",\n",
        "    \"Reg_number\" : \"Bscit-01-060/2018\",\n",
        "    \"PhoneNumber\" : \"0700123456\",\n",
        "}\n",
        "\n",
        "print(studenDict)\n"
      ],
      "execution_count": 0,
      "outputs": [
        {
          "output_type": "stream",
          "text": [
            "{'FirstName': 'Chris', 'LastName': 'Achinga', 'Reg_number': 'Bscit-01-060/2018', 'PhoneNumber': '0700123456'}\n"
          ],
          "name": "stdout"
        }
      ]
    },
    {
      "cell_type": "code",
      "metadata": {
        "id": "vt4w-ZfCZm1T",
        "colab_type": "code",
        "outputId": "f3434f1c-2337-44f4-a9a7-95e5d8fd33d6",
        "colab": {
          "base_uri": "https://localhost:8080/",
          "height": 153
        }
      },
      "source": [
        "inpt1 = int(input('enter base: '))\n",
        "inpt2 = int(input('enter height: '))\n",
        "inpt3 = int(input('enter hypotenus: '))\n",
        "\n",
        "\n",
        "def get_area(base, height):\n",
        "   return 0.5 * base * height\n",
        "\n",
        "def get_per(base, height, hypo):\n",
        "    return base + height + hypo\n",
        "\n",
        "print(\"area of the triangle is: \")\n",
        "print(get_area(inpt1, inpt2))\n",
        "print()\n",
        "print('the perimeter of the triangle is')\n",
        "print(get_per(inpt1, inpt2, inpt3))\n"
      ],
      "execution_count": 0,
      "outputs": [
        {
          "output_type": "stream",
          "text": [
            "enter base: 23\n",
            "enter height: 23\n",
            "enter hypotenus: 22\n",
            "area of the triangle is: \n",
            "264.5\n",
            "\n",
            "the perimeter of the triangle is\n",
            "68\n"
          ],
          "name": "stdout"
        }
      ]
    },
    {
      "cell_type": "code",
      "metadata": {
        "id": "kp8VmHCfZqbW",
        "colab_type": "code",
        "outputId": "d41568e5-2aa9-42b0-ebed-e32bfb69cd4e",
        "colab": {
          "base_uri": "https://localhost:8080/",
          "height": 51
        }
      },
      "source": [
        "num = int(input(\"Enter a number: \"))\n",
        "mod = num % 2\n",
        "if mod > 0:\n",
        "    print(\"This is an odd number.\")\n",
        "else:\n",
        "    print(\"This is an even number.\")"
      ],
      "execution_count": 0,
      "outputs": [
        {
          "output_type": "stream",
          "text": [
            "Enter a number: 3\n",
            "This is an odd number.\n"
          ],
          "name": "stdout"
        }
      ]
    },
    {
      "cell_type": "code",
      "metadata": {
        "id": "7uicWxKfZwO5",
        "colab_type": "code",
        "colab": {}
      },
      "source": [
        ""
      ],
      "execution_count": 0,
      "outputs": []
    }
  ]
}